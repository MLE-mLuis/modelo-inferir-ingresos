{
 "cells": [
  {
   "cell_type": "markdown",
   "metadata": {
    "id": "mOUoBHmBkuwO"
   },
   "source": [
    "**Trabajo Final**\n",
    "\n",
    "> Profesor: Luis Cajachahua\n",
    "\n",
    "> Curso: MLE\n",
    "\n",
    "> Alumno: Miguel Alberto LUIS CORDOVA\n",
    "\n",
    "> Email: Miguel.Luis@outlook.com\n",
    "\n",
    "> Caso: Póliza de Seguros (Inferencia de Ingresos)"
   ]
  },
  {
   "cell_type": "markdown",
   "metadata": {
    "id": "Ne0sulAqkuwU"
   },
   "source": [
    "## Instalamos librerías "
   ]
  },
  {
   "cell_type": "code",
   "execution_count": 1,
   "metadata": {
    "executionInfo": {
     "elapsed": 2,
     "status": "ok",
     "timestamp": 1648145926310,
     "user": {
      "displayName": "Miguel Luis Cordova",
      "photoUrl": "https://lh3.googleusercontent.com/a/default-user=s64",
      "userId": "17665202492208229610"
     },
     "user_tz": 300
    },
    "id": "aiJaYT-mkuwV"
   },
   "outputs": [],
   "source": [
    "# Import necessary libs\n",
    "import pandas as pd\n",
    "import numpy as np\n",
    "from math import sqrt\n",
    "\n",
    "import pickle\n",
    "\n",
    "import warnings\n",
    "warnings.filterwarnings('ignore')\n",
    "from scipy import stats\n",
    "\n",
    "# Visualization\n",
    "import seaborn as sns\n",
    "import matplotlib.pyplot as plt\n",
    "import matplotlib.gridspec as gridspec\n",
    "\n",
    "## Modelos de regresion\n",
    "from sklearn import model_selection\n",
    "from sklearn.linear_model import LinearRegression\n",
    "from sklearn.linear_model import Ridge\n",
    "from sklearn.linear_model import Lasso\n",
    "from sklearn.linear_model import ElasticNet\n",
    "import statsmodels.api as sm           \n",
    "import statsmodels.formula.api as smf  \n",
    "\n",
    "# visualization\n",
    "import seaborn as sns\n",
    "import matplotlib.pyplot as plt\n",
    "\n",
    "# Métricas de evaluación\n",
    "from sklearn.metrics import mean_squared_error\n",
    "from sklearn import metrics\n",
    "from sklearn.metrics import r2_score\n",
    "\n",
    "# Separar train and test\n",
    "from sklearn.model_selection import train_test_split\n",
    "\n",
    "# Estadística y matemáticas\n",
    "import scipy.stats as scy\n",
    "from scipy.stats import kurtosis\n",
    "\n",
    "# Crea una semilla cualesquiera\n",
    "seed = 16\n",
    "np.random.seed(seed)"
   ]
  },
  {
   "cell_type": "code",
   "execution_count": 2,
   "metadata": {
    "executionInfo": {
     "elapsed": 755,
     "status": "ok",
     "timestamp": 1648145928284,
     "user": {
      "displayName": "Miguel Luis Cordova",
      "photoUrl": "https://lh3.googleusercontent.com/a/default-user=s64",
      "userId": "17665202492208229610"
     },
     "user_tz": 300
    },
    "id": "w7sxBBm1kuwX"
   },
   "outputs": [],
   "source": [
    "pd.options.display.max_columns = 30\n",
    "pd.options.display.max_rows = 30"
   ]
  },
  {
   "cell_type": "markdown",
   "metadata": {
    "id": "13lzQdwsg7y_"
   },
   "source": [
    "# Script 1: Preparación de datos para el entrenamiento\n"
   ]
  },
  {
   "cell_type": "code",
   "execution_count": 3,
   "metadata": {
    "executionInfo": {
     "elapsed": 3923,
     "status": "ok",
     "timestamp": 1648145952397,
     "user": {
      "displayName": "Miguel Luis Cordova",
      "photoUrl": "https://lh3.googleusercontent.com/a/default-user=s64",
      "userId": "17665202492208229610"
     },
     "user_tz": 300
    },
    "id": "7JxLG5jvkuwZ"
   },
   "outputs": [],
   "source": [
    "#Ruta del Archivo\n",
    "mainpath = \"../data\"\n",
    "filename = f'{mainpath}/data_Inferencia_Ingresos.xlsx'\n",
    "dataset = pd.read_excel(filename)\n",
    "dataset_original = pd.read_excel(filename)"
   ]
  },
  {
   "cell_type": "code",
   "execution_count": 4,
   "metadata": {
    "executionInfo": {
     "elapsed": 15,
     "status": "ok",
     "timestamp": 1648145981395,
     "user": {
      "displayName": "Miguel Luis Cordova",
      "photoUrl": "https://lh3.googleusercontent.com/a/default-user=s64",
      "userId": "17665202492208229610"
     },
     "user_tz": 300
    },
    "id": "fHJ6kEhZGGEM"
   },
   "outputs": [],
   "source": [
    "#Aplicar función de logaritmo al Ingreso\n",
    "dataset['ingres'] = np.log(dataset['ingres'])"
   ]
  },
  {
   "cell_type": "code",
   "execution_count": 5,
   "metadata": {
    "executionInfo": {
     "elapsed": 9,
     "status": "ok",
     "timestamp": 1648145979121,
     "user": {
      "displayName": "Miguel Luis Cordova",
      "photoUrl": "https://lh3.googleusercontent.com/a/default-user=s64",
      "userId": "17665202492208229610"
     },
     "user_tz": 300
    },
    "id": "Pymo91kaqCXR"
   },
   "outputs": [],
   "source": [
    "#Creación de función para eliminar valores atípicos (considerando el IQR)\n",
    "def Remove_Outlier(df_in, col_name):\n",
    "  q1 = df_in[col_name].quantile(0.25)\n",
    "  q3 = df_in[col_name].quantile(0.75)\n",
    "  iqr = q3-q1 #Interquartile range\n",
    "  rango_inicio = q1-1.5*iqr\n",
    "  rango_fin = q3+1.5*iqr\n",
    "  #print('Columna: ',col_name)\n",
    "  #print('  IQR - Rango Inicio: ',rango_inicio)\n",
    "  #print('  IQR - Rango Fin: ',rango_fin)\n",
    "  df_out = df_in.loc[(df_in[col_name] > rango_inicio) & (df_in[col_name] < rango_fin)]\n",
    "\n",
    "  registros_eliminados = df_in.shape[0] - df_out.shape[0]\n",
    "  \n",
    "  #print('Registros')\n",
    "  #print('  Inicial:    ', '{:,}'.format(df_in.shape[0]) ,\"-\")\n",
    "  #print('  Eliminados:   ','{:,}'.format(registros_eliminados))\n",
    "  #print('  ----------------------')\n",
    "  #print('  Final:      ', '{:,}'.format(df_out.shape[0]))\n",
    "\n",
    "  return df_out"
   ]
  },
  {
   "cell_type": "markdown",
   "metadata": {
    "id": "wbc7YdvL0d4-"
   },
   "source": [
    "## Eliminación de valores atípicos"
   ]
  },
  {
   "cell_type": "code",
   "execution_count": 6,
   "metadata": {
    "colab": {
     "base_uri": "https://localhost:8080/"
    },
    "executionInfo": {
     "elapsed": 18,
     "status": "ok",
     "timestamp": 1648145981395,
     "user": {
      "displayName": "Miguel Luis Cordova",
      "photoUrl": "https://lh3.googleusercontent.com/a/default-user=s64",
      "userId": "17665202492208229610"
     },
     "user_tz": 300
    },
    "id": "hl4FeT2Z8jHz",
    "outputId": "2f82aa6a-6c43-439e-f3ca-16cd523450bf"
   },
   "outputs": [],
   "source": [
    "dataset_rmv_01 = Remove_Outlier(dataset, 'AniosDireccion')\n",
    "dataset_rmv_02 = Remove_Outlier(dataset_rmv_01, 'Aniosempleo')\n",
    "dataset_rmv_03 = Remove_Outlier(dataset_rmv_02, 'Aniosresiden')\n",
    "dataset = dataset_rmv_03\n"
   ]
  },
  {
   "cell_type": "code",
   "execution_count": 7,
   "metadata": {},
   "outputs": [],
   "source": [
    "# Mantener sólo las variables relevantes para el Modelo\n",
    "dfp = dataset[['edad','AniosDireccion','Gastocoche','Aniosempleo','Aniosresiden','ingres']]\n",
    "dfp.to_csv(\"../data/raw/model_train.csv\")"
   ]
  },
  {
   "cell_type": "markdown",
   "metadata": {},
   "source": [
    "# Script 2: Código de Entrenamiento"
   ]
  },
  {
   "cell_type": "code",
   "execution_count": 8,
   "metadata": {},
   "outputs": [],
   "source": [
    "# Cargar la tabla transformada\n",
    "df = pd.read_csv(\"../data/raw/model_train.csv\")\n",
    "X_train = df.drop(['ingres'],axis=1)\n",
    "y_train = df[['ingres']]"
   ]
  },
  {
   "cell_type": "markdown",
   "metadata": {
    "id": "5nS-8X__EcQM"
   },
   "source": [
    "### SKlearn (Linear Regression)"
   ]
  },
  {
   "cell_type": "code",
   "execution_count": 9,
   "metadata": {
    "colab": {
     "base_uri": "https://localhost:8080/"
    },
    "executionInfo": {
     "elapsed": 15,
     "status": "ok",
     "timestamp": 1648145981396,
     "user": {
      "displayName": "Miguel Luis Cordova",
      "photoUrl": "https://lh3.googleusercontent.com/a/default-user=s64",
      "userId": "17665202492208229610"
     },
     "user_tz": 300
    },
    "id": "HnLOtzlYDzUi",
    "outputId": "ae61e577-3a71-41aa-d96b-dd6ac7a63a17"
   },
   "outputs": [
    {
     "data": {
      "text/html": [
       "<style>#sk-container-id-1 {color: black;background-color: white;}#sk-container-id-1 pre{padding: 0;}#sk-container-id-1 div.sk-toggleable {background-color: white;}#sk-container-id-1 label.sk-toggleable__label {cursor: pointer;display: block;width: 100%;margin-bottom: 0;padding: 0.3em;box-sizing: border-box;text-align: center;}#sk-container-id-1 label.sk-toggleable__label-arrow:before {content: \"▸\";float: left;margin-right: 0.25em;color: #696969;}#sk-container-id-1 label.sk-toggleable__label-arrow:hover:before {color: black;}#sk-container-id-1 div.sk-estimator:hover label.sk-toggleable__label-arrow:before {color: black;}#sk-container-id-1 div.sk-toggleable__content {max-height: 0;max-width: 0;overflow: hidden;text-align: left;background-color: #f0f8ff;}#sk-container-id-1 div.sk-toggleable__content pre {margin: 0.2em;color: black;border-radius: 0.25em;background-color: #f0f8ff;}#sk-container-id-1 input.sk-toggleable__control:checked~div.sk-toggleable__content {max-height: 200px;max-width: 100%;overflow: auto;}#sk-container-id-1 input.sk-toggleable__control:checked~label.sk-toggleable__label-arrow:before {content: \"▾\";}#sk-container-id-1 div.sk-estimator input.sk-toggleable__control:checked~label.sk-toggleable__label {background-color: #d4ebff;}#sk-container-id-1 div.sk-label input.sk-toggleable__control:checked~label.sk-toggleable__label {background-color: #d4ebff;}#sk-container-id-1 input.sk-hidden--visually {border: 0;clip: rect(1px 1px 1px 1px);clip: rect(1px, 1px, 1px, 1px);height: 1px;margin: -1px;overflow: hidden;padding: 0;position: absolute;width: 1px;}#sk-container-id-1 div.sk-estimator {font-family: monospace;background-color: #f0f8ff;border: 1px dotted black;border-radius: 0.25em;box-sizing: border-box;margin-bottom: 0.5em;}#sk-container-id-1 div.sk-estimator:hover {background-color: #d4ebff;}#sk-container-id-1 div.sk-parallel-item::after {content: \"\";width: 100%;border-bottom: 1px solid gray;flex-grow: 1;}#sk-container-id-1 div.sk-label:hover label.sk-toggleable__label {background-color: #d4ebff;}#sk-container-id-1 div.sk-serial::before {content: \"\";position: absolute;border-left: 1px solid gray;box-sizing: border-box;top: 0;bottom: 0;left: 50%;z-index: 0;}#sk-container-id-1 div.sk-serial {display: flex;flex-direction: column;align-items: center;background-color: white;padding-right: 0.2em;padding-left: 0.2em;position: relative;}#sk-container-id-1 div.sk-item {position: relative;z-index: 1;}#sk-container-id-1 div.sk-parallel {display: flex;align-items: stretch;justify-content: center;background-color: white;position: relative;}#sk-container-id-1 div.sk-item::before, #sk-container-id-1 div.sk-parallel-item::before {content: \"\";position: absolute;border-left: 1px solid gray;box-sizing: border-box;top: 0;bottom: 0;left: 50%;z-index: -1;}#sk-container-id-1 div.sk-parallel-item {display: flex;flex-direction: column;z-index: 1;position: relative;background-color: white;}#sk-container-id-1 div.sk-parallel-item:first-child::after {align-self: flex-end;width: 50%;}#sk-container-id-1 div.sk-parallel-item:last-child::after {align-self: flex-start;width: 50%;}#sk-container-id-1 div.sk-parallel-item:only-child::after {width: 0;}#sk-container-id-1 div.sk-dashed-wrapped {border: 1px dashed gray;margin: 0 0.4em 0.5em 0.4em;box-sizing: border-box;padding-bottom: 0.4em;background-color: white;}#sk-container-id-1 div.sk-label label {font-family: monospace;font-weight: bold;display: inline-block;line-height: 1.2em;}#sk-container-id-1 div.sk-label-container {text-align: center;}#sk-container-id-1 div.sk-container {/* jupyter's `normalize.less` sets `[hidden] { display: none; }` but bootstrap.min.css set `[hidden] { display: none !important; }` so we also need the `!important` here to be able to override the default hidden behavior on the sphinx rendered scikit-learn.org. See: https://github.com/scikit-learn/scikit-learn/issues/21755 */display: inline-block !important;position: relative;}#sk-container-id-1 div.sk-text-repr-fallback {display: none;}</style><div id=\"sk-container-id-1\" class=\"sk-top-container\"><div class=\"sk-text-repr-fallback\"><pre>LinearRegression()</pre><b>In a Jupyter environment, please rerun this cell to show the HTML representation or trust the notebook. <br />On GitHub, the HTML representation is unable to render, please try loading this page with nbviewer.org.</b></div><div class=\"sk-container\" hidden><div class=\"sk-item\"><div class=\"sk-estimator sk-toggleable\"><input class=\"sk-toggleable__control sk-hidden--visually\" id=\"sk-estimator-id-1\" type=\"checkbox\" checked><label for=\"sk-estimator-id-1\" class=\"sk-toggleable__label sk-toggleable__label-arrow\">LinearRegression</label><div class=\"sk-toggleable__content\"><pre>LinearRegression()</pre></div></div></div></div></div>"
      ],
      "text/plain": [
       "LinearRegression()"
      ]
     },
     "execution_count": 9,
     "metadata": {},
     "output_type": "execute_result"
    }
   ],
   "source": [
    "# Entrenamos el modelo con toda la muestra\n",
    "lm = LinearRegression()\n",
    "y_sqrt = np.sqrt(y_train)\n",
    "y_log = np.log(y_train)\n",
    "lm.fit(X_train,y_train)"
   ]
  },
  {
   "cell_type": "code",
   "execution_count": 10,
   "metadata": {},
   "outputs": [],
   "source": [
    "# Guardamos el modelo entrenado para usarlo en produccion\n",
    "filename = '../models/best_model.pkl'\n",
    "pickle.dump(lm, open(filename, 'wb'))"
   ]
  },
  {
   "cell_type": "markdown",
   "metadata": {},
   "source": [
    "# Script 3: Preparación de Datos de Validación"
   ]
  },
  {
   "cell_type": "code",
   "execution_count": 11,
   "metadata": {},
   "outputs": [],
   "source": [
    "# Leemos la tabla de validación\n",
    "df = pd.read_csv(\"../data/raw/model_validation.csv\")"
   ]
  },
  {
   "cell_type": "code",
   "execution_count": 12,
   "metadata": {},
   "outputs": [],
   "source": [
    "#Aplicar función de logaritmo al Ingreso\n",
    "df['ingres'] = np.log(dataset['ingres'])"
   ]
  },
  {
   "cell_type": "code",
   "execution_count": 13,
   "metadata": {},
   "outputs": [],
   "source": [
    "# Mantener sólo las variables relevantes para el Modelo\n",
    "dfp = dataset[['edad','AniosDireccion','Gastocoche','Aniosempleo','Aniosresiden','ingres']]\n",
    "dfp.to_csv(\"../data/raw/model_val.csv\")"
   ]
  },
  {
   "cell_type": "markdown",
   "metadata": {},
   "source": [
    "# Script 4: Código de Validación"
   ]
  },
  {
   "cell_type": "code",
   "execution_count": 14,
   "metadata": {},
   "outputs": [],
   "source": [
    "# Cargar la tabla transformada\n",
    "df = pd.read_csv(\"../data/raw/model_val.csv\")\n",
    "X_test = df.drop(['ingres'],axis=1)\n",
    "y_test = df[['ingres']]"
   ]
  },
  {
   "cell_type": "code",
   "execution_count": 15,
   "metadata": {},
   "outputs": [],
   "source": [
    "# Leemos el modelo entrenado!\n",
    "filename = '../models/best_model.pkl'\n",
    "model = pickle.load(open(filename, 'rb'))"
   ]
  },
  {
   "cell_type": "code",
   "execution_count": 16,
   "metadata": {},
   "outputs": [],
   "source": [
    "# Predecimos sobre el set de datos de implementacion con el modelo entrenado\n",
    "y_pred_test=model.predict(df.drop(['ingres'],axis=1)) "
   ]
  },
  {
   "cell_type": "code",
   "execution_count": 17,
   "metadata": {},
   "outputs": [],
   "source": [
    "## Metricas de validación\n",
    "def mean_absolute_percentage_error(y_true, y_pred):\n",
    "    y_true, y_pred = np.array(y_true), np.array(y_pred)\n",
    "    return np.mean(np.abs((y_true - y_pred) / y_true)) * 100\n",
    "\n",
    "def calc_metrics(y_test,predictions_lr):\n",
    "    RMSE_LR = np.sqrt(metrics.mean_squared_error(y_test, predictions_lr))\n",
    "    print('MAE:', metrics.mean_absolute_error(y_test, predictions_lr))\n",
    "    print('MSE:', metrics.mean_squared_error(y_test, predictions_lr))\n",
    "    print('RMSE:', np.sqrt(metrics.mean_squared_error(y_test, predictions_lr)))\n",
    "    print('MAPE:', mean_absolute_percentage_error(y_test, predictions_lr))"
   ]
  },
  {
   "cell_type": "code",
   "execution_count": 18,
   "metadata": {},
   "outputs": [],
   "source": [
    "#Creación de función para realizar gráfico de Predicción\n",
    "def Grafico_Prediccion(title, y_test_in, predictions_in):\n",
    " # Valores predecidos vs valores reales (Linealidad)\n",
    "  y_pred = predictions_in.copy()\n",
    "  plt.scatter(y_test_in, y_pred, edgecolors=(0, 0, 0), alpha = 0.4)\n",
    "  plt.plot([y_test_in.min(), y_test_in.max()], \n",
    "          [y_test_in.min(), y_test_in.max()],'k--', color = 'black', lw=2)\n",
    "  plt.title('(' + title + ') Valor predicho vs valor real', fontsize = 20, fontweight = \"bold\")\n",
    "  plt.xlabel('Real')\n",
    "  plt.ylabel('Predicción')"
   ]
  },
  {
   "cell_type": "code",
   "execution_count": 19,
   "metadata": {},
   "outputs": [],
   "source": [
    "def save_plot(title):\n",
    "    plt.title(title)\n",
    "    fig = plt.gcf()\n",
    "    filename = title.replace(\" \", \"_\").lower()\n",
    "    fig.savefig('../' + filename, dpi=500)\n",
    "    plt.clf()"
   ]
  },
  {
   "cell_type": "code",
   "execution_count": 20,
   "metadata": {},
   "outputs": [
    {
     "data": {
      "text/plain": [
       "<Figure size 432x288 with 0 Axes>"
      ]
     },
     "metadata": {},
     "output_type": "display_data"
    }
   ],
   "source": [
    "Grafico_Prediccion('Regresión Lineal', y_test, y_pred_test.copy())\n",
    "save_plot('Gráfico Dispersión')"
   ]
  },
  {
   "cell_type": "markdown",
   "metadata": {},
   "source": [
    "# Script 5: Preparación de Datos de Score (Automatización)"
   ]
  },
  {
   "cell_type": "code",
   "execution_count": 21,
   "metadata": {},
   "outputs": [],
   "source": [
    "# Leemos la tabla de entrenamiento\n",
    "df = pd.read_csv(\"../data/raw/model_train.csv\")"
   ]
  },
  {
   "cell_type": "code",
   "execution_count": 22,
   "metadata": {},
   "outputs": [],
   "source": [
    "#Aplicar función de logaritmo al Ingreso\n",
    "dataset['ingres'] = np.log(dataset['ingres'])"
   ]
  },
  {
   "cell_type": "code",
   "execution_count": 23,
   "metadata": {},
   "outputs": [],
   "source": [
    "# Mantener sólo las variables relevantes para el Modelo\n",
    "dfp = dataset[['edad','AniosDireccion','Gastocoche','Aniosempleo','Aniosresiden','ingres']]\n",
    "dfp.to_csv(\"../data/processed/model_score.csv\")"
   ]
  },
  {
   "cell_type": "markdown",
   "metadata": {},
   "source": [
    "# Script 6: Código de Scoring (Automatización)"
   ]
  },
  {
   "cell_type": "code",
   "execution_count": 24,
   "metadata": {},
   "outputs": [],
   "source": [
    "# Cargar la tabla transformada\n",
    "df = pd.read_csv(\"../data/processed/model_score.csv\").set_index('Unnamed: 0')"
   ]
  },
  {
   "cell_type": "code",
   "execution_count": 25,
   "metadata": {},
   "outputs": [],
   "source": [
    "# Leemos el modelo entrenado!\n",
    "filename = '../models/best_model.pkl'\n",
    "model = pickle.load(open(filename, 'rb'))"
   ]
  },
  {
   "cell_type": "code",
   "execution_count": 26,
   "metadata": {},
   "outputs": [],
   "source": [
    "# Predecimos sobre el set de datos de implementacion con el modelo entrenado\n",
    "scores=model.predict(df)"
   ]
  },
  {
   "cell_type": "code",
   "execution_count": 27,
   "metadata": {},
   "outputs": [],
   "source": [
    "# Exportamos el resultado del modelo para cargarlo en el Feature Store o Data Mart de Modelos\n",
    "# Le asignamos nombres a las columnas\n",
    "df_score = pd.DataFrame(scores, columns=['ingres'])\n",
    "# Exportamos la solucion\n",
    "df_score.to_csv('../data/scores/final_score.csv')"
   ]
  }
 ],
 "metadata": {
  "colab": {
   "collapsed_sections": [],
   "history_visible": true,
   "name": "Trabajo_Final_Miguel_Luis_Cordova.ipynb",
   "provenance": [],
   "toc_visible": true
  },
  "kernelspec": {
   "display_name": "Python 3",
   "language": "python",
   "name": "python3"
  },
  "language_info": {
   "codemirror_mode": {
    "name": "ipython",
    "version": 3
   },
   "file_extension": ".py",
   "mimetype": "text/x-python",
   "name": "python",
   "nbconvert_exporter": "python",
   "pygments_lexer": "ipython3",
   "version": "3.8.8"
  }
 },
 "nbformat": 4,
 "nbformat_minor": 4
}
